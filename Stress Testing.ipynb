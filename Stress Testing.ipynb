{
 "cells": [
  {
   "cell_type": "markdown",
   "metadata": {},
   "source": [
    "#### Basell II three pillars\n",
    "+ Pillar one:Minimum Capital Requirement\n",
    "\"A   > + credit r\"iskis the core of Basell II 3 pilliars\n",
    "    > + market risk \n",
    "    > + operational risk\n",
    "    \n",
    "+ Pillar two:ICAAP/SREP stress Testing\n",
    "    >+ ICAAP: Capital Adequacy Assessment Process. With this tool the banks can assess the capital adequacy in relation to their risk profiles as well as adopt strategies for maintaining the capital levels\n",
    "    >+ SREP: Supervisory Review and Evaluation Process, independent process from ICAAP\n",
    "+ Pillar three:credit risk, market risk as well as Operational Risk .\n",
    "\n",
    "\"Adequate capital\" is the core of Basell II 3 pilliars\n",
    "\n",
    "#### Input: \n",
    "> VaR model: normal distribution \n",
    "> Portfolio\n",
    "> Scenario(generation?)\n",
    "\n",
    "#### Transformatioin\n",
    "> 5 step approach\n",
    "> python code\n",
    "\n",
    "#### Output\n",
    "> result\n",
    "> plot/visualization"
   ]
  },
  {
   "cell_type": "markdown",
   "metadata": {},
   "source": [
    "Sensitivity Analysis: testing one item at a time\n",
    "\n",
    "Portfolio \n",
    "\n",
    "+ 70%Equity(50% foreign stock+ 50% domestic stock) \n",
    "> Forex Depriciate by what %\n",
    "\n",
    "+ 30%Debt\n",
    "> Credit spread in the market increase by what%\n"
   ]
  },
  {
   "cell_type": "markdown",
   "metadata": {},
   "source": [
    "Scenario Analysis\n",
    "+ Best scenario\n",
    "+ Base scenario\n",
    "+ Worst scenario (Study everything from negative perspective)\n",
    "> Forex, \n",
    "> equty, \n",
    "> credit spread increase, \n",
    "> bond done"
   ]
  },
  {
   "cell_type": "markdown",
   "metadata": {},
   "source": [
    "Worst scenario<--> stress testing \n",
    "Stress Testing:with extreme left tail event\n",
    "\n"
   ]
  },
  {
   "cell_type": "code",
   "execution_count": null,
   "metadata": {
    "collapsed": true
   },
   "outputs": [],
   "source": []
  }
 ],
 "metadata": {
  "kernelspec": {
   "display_name": "Python 3",
   "language": "python",
   "name": "python3"
  },
  "language_info": {
   "codemirror_mode": {
    "name": "ipython",
    "version": 3
   },
   "file_extension": ".py",
   "mimetype": "text/x-python",
   "name": "python",
   "nbconvert_exporter": "python",
   "pygments_lexer": "ipython3",
   "version": "3.6.0"
  }
 },
 "nbformat": 4,
 "nbformat_minor": 2
}
